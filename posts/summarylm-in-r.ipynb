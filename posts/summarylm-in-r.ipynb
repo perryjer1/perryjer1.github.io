{
 "cells": [
  {
   "cell_type": "markdown",
   "metadata": {},
   "source": [
    "# Matching `summary(lm(...))` output\n",
    "\n",
    "These are my notes on matching the report that is printed when you call `summary` on a linear model in R.\n",
    "\n",
    "We will use the `trees` dataset. `Girth` is the tree diameter in inches, `Height` is the tree height in feet, `Volume` is the amount of timber in cubic feet. "
   ]
  },
  {
   "cell_type": "markdown",
   "metadata": {},
   "source": [
    "## Univariate case"
   ]
  },
  {
   "cell_type": "code",
   "execution_count": 1,
   "metadata": {
    "collapsed": false
   },
   "outputs": [
    {
     "data": {
      "text/plain": [
       "\n",
       "Call:\n",
       "lm(formula = Volume ~ Girth, data = trees)\n",
       "\n",
       "Residuals:\n",
       "   Min     1Q Median     3Q    Max \n",
       "-8.065 -3.107  0.152  3.495  9.587 \n",
       "\n",
       "Coefficients:\n",
       "            Estimate Std. Error t value Pr(>|t|)    \n",
       "(Intercept) -36.9435     3.3651  -10.98 7.62e-12 ***\n",
       "Girth         5.0659     0.2474   20.48  < 2e-16 ***\n",
       "---\n",
       "Signif. codes:  0 ‘***’ 0.001 ‘**’ 0.01 ‘*’ 0.05 ‘.’ 0.1 ‘ ’ 1\n",
       "\n",
       "Residual standard error: 4.252 on 29 degrees of freedom\n",
       "Multiple R-squared:  0.9353,\tAdjusted R-squared:  0.9331 \n",
       "F-statistic: 419.4 on 1 and 29 DF,  p-value: < 2.2e-16\n"
      ]
     },
     "metadata": {},
     "output_type": "display_data"
    }
   ],
   "source": [
    "data(trees)\n",
    "model1 <- lm(Volume ~ Girth, data = trees)\n",
    "summary(model1)"
   ]
  },
  {
   "cell_type": "markdown",
   "metadata": {},
   "source": [
    "### Residuals\n",
    "\n",
    "The $\\hat{y_i}$ are found in the `fitted.values` field. The residuals $y_i - \\hat{y_i}$ are in the `residuals` field. Each can be extracted using the `fitted` and `residuals` functions. We can get the residual quantiles by using either one."
   ]
  },
  {
   "cell_type": "code",
   "execution_count": 2,
   "metadata": {
    "collapsed": false
   },
   "outputs": [
    {
     "data": {
      "text/html": [
       "<dl class=dl-horizontal>\n",
       "\t<dt>0%</dt>\n",
       "\t\t<dd>-8.065</dd>\n",
       "\t<dt>25%</dt>\n",
       "\t\t<dd>-3.107</dd>\n",
       "\t<dt>50%</dt>\n",
       "\t\t<dd>0.152</dd>\n",
       "\t<dt>75%</dt>\n",
       "\t\t<dd>3.495</dd>\n",
       "\t<dt>100%</dt>\n",
       "\t\t<dd>9.587</dd>\n",
       "</dl>\n"
      ],
      "text/latex": [
       "\\begin{description*}\n",
       "\\item[0\\textbackslash{}\\%] -8.065\n",
       "\\item[25\\textbackslash{}\\%] -3.107\n",
       "\\item[50\\textbackslash{}\\%] 0.152\n",
       "\\item[75\\textbackslash{}\\%] 3.495\n",
       "\\item[100\\textbackslash{}\\%] 9.587\n",
       "\\end{description*}\n"
      ],
      "text/markdown": [
       "0%\n",
       ":   -8.06525%\n",
       ":   -3.10750%\n",
       ":   0.15275%\n",
       ":   3.495100%\n",
       ":   9.587\n",
       "\n"
      ],
      "text/plain": [
       "    0%    25%    50%    75%   100% \n",
       "-8.065 -3.107  0.152  3.495  9.587 "
      ]
     },
     "metadata": {},
     "output_type": "display_data"
    }
   ],
   "source": [
    "round(quantile(trees$Volume - fitted(model1)), 3)"
   ]
  },
  {
   "cell_type": "code",
   "execution_count": 3,
   "metadata": {
    "collapsed": false
   },
   "outputs": [
    {
     "data": {
      "text/html": [
       "<dl class=dl-horizontal>\n",
       "\t<dt>0%</dt>\n",
       "\t\t<dd>-8.065</dd>\n",
       "\t<dt>25%</dt>\n",
       "\t\t<dd>-3.107</dd>\n",
       "\t<dt>50%</dt>\n",
       "\t\t<dd>0.152</dd>\n",
       "\t<dt>75%</dt>\n",
       "\t\t<dd>3.495</dd>\n",
       "\t<dt>100%</dt>\n",
       "\t\t<dd>9.587</dd>\n",
       "</dl>\n"
      ],
      "text/latex": [
       "\\begin{description*}\n",
       "\\item[0\\textbackslash{}\\%] -8.065\n",
       "\\item[25\\textbackslash{}\\%] -3.107\n",
       "\\item[50\\textbackslash{}\\%] 0.152\n",
       "\\item[75\\textbackslash{}\\%] 3.495\n",
       "\\item[100\\textbackslash{}\\%] 9.587\n",
       "\\end{description*}\n"
      ],
      "text/markdown": [
       "0%\n",
       ":   -8.06525%\n",
       ":   -3.10750%\n",
       ":   0.15275%\n",
       ":   3.495100%\n",
       ":   9.587\n",
       "\n"
      ],
      "text/plain": [
       "    0%    25%    50%    75%   100% \n",
       "-8.065 -3.107  0.152  3.495  9.587 "
      ]
     },
     "metadata": {},
     "output_type": "display_data"
    }
   ],
   "source": [
    "round(quantile(residuals(model1)), 3)"
   ]
  },
  {
   "cell_type": "markdown",
   "metadata": {},
   "source": [
    "### Coefficients\n",
    "\n",
    "Coefficients are found by $\\beta = (X^T X)^{-1} X^T y$."
   ]
  },
  {
   "cell_type": "code",
   "execution_count": 4,
   "metadata": {
    "collapsed": false
   },
   "outputs": [
    {
     "data": {
      "text/html": [
       "<table>\n",
       "<tbody>\n",
       "\t<tr><th scope=row>(Intercept)</th><td>-36.9435</td></tr>\n",
       "\t<tr><th scope=row>Girth</th><td>  5.0659</td></tr>\n",
       "</tbody>\n",
       "</table>\n"
      ],
      "text/latex": [
       "\\begin{tabular}{r|l}\n",
       "\t(Intercept) & -36.9435\\\\\n",
       "\tGirth &   5.0659\\\\\n",
       "\\end{tabular}\n"
      ],
      "text/markdown": [
       "\n",
       "| (Intercept) | -36.9435 | \n",
       "| Girth |   5.0659 | \n",
       "\n",
       "\n"
      ],
      "text/plain": [
       "            [,1]    \n",
       "(Intercept) -36.9435\n",
       "Girth         5.0659"
      ]
     },
     "metadata": {},
     "output_type": "display_data"
    }
   ],
   "source": [
    "X <- model.matrix(~ Girth, data = trees)\n",
    "beta <- round(solve(t(X) %*% X) %*% t(X) %*% trees$Volume, 4)\n",
    "beta"
   ]
  },
  {
   "cell_type": "markdown",
   "metadata": {},
   "source": [
    "Standard errors can be found via $\\sqrt{diag(X^T X)^{-1}} \\sigma$."
   ]
  },
  {
   "cell_type": "code",
   "execution_count": 5,
   "metadata": {
    "collapsed": false
   },
   "outputs": [
    {
     "data": {
      "text/html": [
       "<dl class=dl-horizontal>\n",
       "\t<dt>(Intercept)</dt>\n",
       "\t\t<dd>3.3651</dd>\n",
       "\t<dt>Girth</dt>\n",
       "\t\t<dd>0.2474</dd>\n",
       "</dl>\n"
      ],
      "text/latex": [
       "\\begin{description*}\n",
       "\\item[(Intercept)] 3.3651\n",
       "\\item[Girth] 0.2474\n",
       "\\end{description*}\n"
      ],
      "text/markdown": [
       "(Intercept)\n",
       ":   3.3651Girth\n",
       ":   0.2474\n",
       "\n"
      ],
      "text/plain": [
       "(Intercept)       Girth \n",
       "     3.3651      0.2474 "
      ]
     },
     "metadata": {},
     "output_type": "display_data"
    }
   ],
   "source": [
    "se <- round(sqrt(diag(solve(t(X) %*% X))) * sqrt(sum(model1$res^2) / (nrow(trees)-ncol(X))), 4)\n",
    "se"
   ]
  },
  {
   "cell_type": "markdown",
   "metadata": {},
   "source": [
    "The `t` values are just the coefficients divided by the standard errors."
   ]
  },
  {
   "cell_type": "code",
   "execution_count": 6,
   "metadata": {
    "collapsed": false
   },
   "outputs": [
    {
     "data": {
      "text/html": [
       "<table>\n",
       "<tbody>\n",
       "\t<tr><th scope=row>(Intercept)</th><td>-10.98</td></tr>\n",
       "\t<tr><th scope=row>Girth</th><td> 20.48</td></tr>\n",
       "</tbody>\n",
       "</table>\n"
      ],
      "text/latex": [
       "\\begin{tabular}{r|l}\n",
       "\t(Intercept) & -10.98\\\\\n",
       "\tGirth &  20.48\\\\\n",
       "\\end{tabular}\n"
      ],
      "text/markdown": [
       "\n",
       "| (Intercept) | -10.98 | \n",
       "| Girth |  20.48 | \n",
       "\n",
       "\n"
      ],
      "text/plain": [
       "            [,1]  \n",
       "(Intercept) -10.98\n",
       "Girth        20.48"
      ]
     },
     "metadata": {},
     "output_type": "display_data"
    }
   ],
   "source": [
    "round(beta / se, 2)"
   ]
  },
  {
   "cell_type": "markdown",
   "metadata": {},
   "source": [
    "The `p` values are found by looking up the probability distribution. The degrees of freedom is observation count minus number of parameters (where we include the intercept), and multiply by two to make the test two sided."
   ]
  },
  {
   "cell_type": "code",
   "execution_count": 7,
   "metadata": {
    "collapsed": false
   },
   "outputs": [
    {
     "data": {
      "text/html": [
       "<table>\n",
       "<tbody>\n",
       "\t<tr><th scope=row>(Intercept)</th><td>7.618853e-12</td></tr>\n",
       "\t<tr><th scope=row>Girth</th><td>8.664230e-19</td></tr>\n",
       "</tbody>\n",
       "</table>\n"
      ],
      "text/latex": [
       "\\begin{tabular}{r|l}\n",
       "\t(Intercept) & 7.618853e-12\\\\\n",
       "\tGirth & 8.664230e-19\\\\\n",
       "\\end{tabular}\n"
      ],
      "text/markdown": [
       "\n",
       "| (Intercept) | 7.618853e-12 | \n",
       "| Girth | 8.664230e-19 | \n",
       "\n",
       "\n"
      ],
      "text/plain": [
       "            [,1]        \n",
       "(Intercept) 7.618853e-12\n",
       "Girth       8.664230e-19"
      ]
     },
     "metadata": {},
     "output_type": "display_data"
    }
   ],
   "source": [
    "pt(-abs(beta / se), nrow(trees) - ncol(X))*2"
   ]
  },
  {
   "cell_type": "markdown",
   "metadata": {},
   "source": [
    "### Residual standard error\n",
    "\n",
    "Residual standard error is the `sd` of the residuals adjusted for degrees of freedom. Degrees of freedom here is number of observations (31) minus number of coeficients (2)."
   ]
  },
  {
   "cell_type": "code",
   "execution_count": 8,
   "metadata": {
    "collapsed": false
   },
   "outputs": [
    {
     "data": {
      "text/html": [
       "4.252"
      ],
      "text/latex": [
       "4.252"
      ],
      "text/markdown": [
       "4.252"
      ],
      "text/plain": [
       "[1] 4.252"
      ]
     },
     "metadata": {},
     "output_type": "display_data"
    }
   ],
   "source": [
    "round(sqrt(sum(model1$res^2) / (nrow(trees)-ncol(X))), 3)"
   ]
  },
  {
   "cell_type": "code",
   "execution_count": 9,
   "metadata": {
    "collapsed": false
   },
   "outputs": [
    {
     "data": {
      "text/html": [
       "<strong>df:</strong> 29"
      ],
      "text/latex": [
       "\\textbf{df:} 29"
      ],
      "text/markdown": [
       "**df:** 29"
      ],
      "text/plain": [
       "df \n",
       "29 "
      ]
     },
     "metadata": {},
     "output_type": "display_data"
    }
   ],
   "source": [
    "c(df = nrow(trees) - 2)"
   ]
  },
  {
   "cell_type": "markdown",
   "metadata": {},
   "source": [
    "Compare to acutal `sd` of residuals."
   ]
  },
  {
   "cell_type": "code",
   "execution_count": 10,
   "metadata": {
    "collapsed": false
   },
   "outputs": [
    {
     "data": {
      "text/html": [
       "4.18052045668671"
      ],
      "text/latex": [
       "4.18052045668671"
      ],
      "text/markdown": [
       "4.18052045668671"
      ],
      "text/plain": [
       "[1] 4.18052"
      ]
     },
     "metadata": {},
     "output_type": "display_data"
    }
   ],
   "source": [
    "sd(model1$residuals)"
   ]
  },
  {
   "cell_type": "markdown",
   "metadata": {},
   "source": [
    "### R-squared\n",
    "\n",
    "Total sum of squares (TSS) is $\\sum_i {(y_i - \\bar{y})^2}$, the total variation in the dataset adjusted for the mean. Residual sum of squares (RSS) is $\\sum_i {(y_i - \\hat{y_i})^2}$, the variation in the prediction. $R^2$, the coefficient of determination, is $1 - \\frac{RSS}{TSS}$. This is the amount of explained variation. The explained sum of squares (ESS) is $\\sum_i {(\\hat{y_i} - \\bar{y})^2}$. It is always the case that $TSS = ESS + RSS$.\n",
    "\n",
    "For multiple regression, the formulas need to be put in matrix terms, see [Wikipedia](https://en.wikipedia.org/wiki/Explained_sum_of_squares). It is still the case that $TSS = ESS + RSS$ if a certain condition holds which (from what I can tell) it always does when using ordinary least squares."
   ]
  },
  {
   "cell_type": "code",
   "execution_count": 11,
   "metadata": {
    "collapsed": false
   },
   "outputs": [
    {
     "data": {
      "text/html": [
       "<dl class=dl-horizontal>\n",
       "\t<dt>TSS</dt>\n",
       "\t\t<dd>8106.08387096774</dd>\n",
       "\t<dt>ESS</dt>\n",
       "\t\t<dd>7581.78133230446</dd>\n",
       "\t<dt>RSS</dt>\n",
       "\t\t<dd>524.302538663282</dd>\n",
       "\t<dt>ESS+RSS</dt>\n",
       "\t\t<dd>8106.08387096774</dd>\n",
       "\t<dt>r2</dt>\n",
       "\t\t<dd>0.93531987245517</dd>\n",
       "</dl>\n"
      ],
      "text/latex": [
       "\\begin{description*}\n",
       "\\item[TSS] 8106.08387096774\n",
       "\\item[ESS] 7581.78133230446\n",
       "\\item[RSS] 524.302538663282\n",
       "\\item[ESS+RSS] 8106.08387096774\n",
       "\\item[r2] 0.93531987245517\n",
       "\\end{description*}\n"
      ],
      "text/markdown": [
       "TSS\n",
       ":   8106.08387096774ESS\n",
       ":   7581.78133230446RSS\n",
       ":   524.302538663282ESS+RSS\n",
       ":   8106.08387096774r2\n",
       ":   0.93531987245517\n",
       "\n"
      ],
      "text/plain": [
       "         TSS          ESS          RSS      ESS+RSS           r2 \n",
       "8106.0838710 7581.7813323  524.3025387 8106.0838710    0.9353199 "
      ]
     },
     "metadata": {},
     "output_type": "display_data"
    }
   ],
   "source": [
    "TSS <- sum((trees$Volume - mean(trees$Volume))^2)\n",
    "RSS <- sum(model1$residuals^2)\n",
    "ESS <- sum((model1$fitted.values - mean(trees$Volume))^2)\n",
    "c(TSS = TSS, ESS = ESS, RSS = RSS, `ESS+RSS` = ESS + RSS, r2 = 1 - RSS / TSS)"
   ]
  },
  {
   "cell_type": "markdown",
   "metadata": {},
   "source": [
    "Adjusted $R^2$ adds a penalty for number of predictors, $Adj. R^2 = 1 - \\frac{RSS/(n-p-1)}{TSS/(n-1)} = 1 - \\left(\\frac{RSS}{TSS}\\right)\\left(\\frac{n-1}{n-p-1}\\right)$. Here, $p$ is the number of predictors and 1 reflects the constant term so the divisors of the sums of squares are just the degrees of freedom for each. As $p$ increases, $n-p-1$ decreases and hence the penalty $\\frac{n-1}{n-p-1}$ increases."
   ]
  },
  {
   "cell_type": "code",
   "execution_count": 12,
   "metadata": {
    "collapsed": false
   },
   "outputs": [
    {
     "data": {
      "text/html": [
       "0.933089523229486"
      ],
      "text/latex": [
       "0.933089523229486"
      ],
      "text/markdown": [
       "0.933089523229486"
      ],
      "text/plain": [
       "[1] 0.9330895"
      ]
     },
     "metadata": {},
     "output_type": "display_data"
    }
   ],
   "source": [
    "1 - (RSS/TSS)*((nrow(trees)-1)/(nrow(trees)-1-1))"
   ]
  },
  {
   "cell_type": "markdown",
   "metadata": {},
   "source": [
    "An ANOVA table gives the same information as well as the F-statistic from the bottom of the `summary` output."
   ]
  },
  {
   "cell_type": "code",
   "execution_count": 13,
   "metadata": {
    "collapsed": false
   },
   "outputs": [
    {
     "data": {
      "text/html": [
       "<table>\n",
       "<thead><tr><th></th><th scope=col>Df</th><th scope=col>Sum Sq</th><th scope=col>Mean Sq</th><th scope=col>F value</th><th scope=col>Pr(&gt;F)</th></tr></thead>\n",
       "<tbody>\n",
       "\t<tr><th scope=row>Girth</th><td> 1     </td><td>7581.78</td><td>7581.78</td><td>419.36 </td><td> 0     </td></tr>\n",
       "\t<tr><th scope=row>Residuals</th><td>29     </td><td> 524.30</td><td>  18.08</td><td>    NA </td><td>NA     </td></tr>\n",
       "</tbody>\n",
       "</table>\n"
      ],
      "text/latex": [
       "\\begin{tabular}{r|lllll}\n",
       "  & Df & Sum Sq & Mean Sq & F value & Pr(>F)\\\\\n",
       "\\hline\n",
       "\tGirth &  1      & 7581.78 & 7581.78 & 419.36  &  0     \\\\\n",
       "\tResiduals & 29      &  524.30 &   18.08 &     NA  & NA     \\\\\n",
       "\\end{tabular}\n"
      ],
      "text/markdown": [
       "\n",
       "| <!--/--> | Df | Sum Sq | Mean Sq | F value | Pr(>F) | \n",
       "|---|---|\n",
       "| Girth |  1      | 7581.78 | 7581.78 | 419.36  |  0      | \n",
       "| Residuals | 29      |  524.30 |   18.08 |     NA  | NA      | \n",
       "\n",
       "\n"
      ],
      "text/plain": [
       "          Df Sum Sq  Mean Sq F value Pr(>F)\n",
       "Girth      1 7581.78 7581.78 419.36   0    \n",
       "Residuals 29  524.30   18.08     NA  NA    "
      ]
     },
     "metadata": {},
     "output_type": "display_data"
    }
   ],
   "source": [
    "round(anova(model1), 2)"
   ]
  },
  {
   "cell_type": "code",
   "execution_count": 14,
   "metadata": {
    "collapsed": false
   },
   "outputs": [
    {
     "data": {
      "text/html": [
       "419.360278509037"
      ],
      "text/latex": [
       "419.360278509037"
      ],
      "text/markdown": [
       "419.360278509037"
      ],
      "text/plain": [
       "[1] 419.3603"
      ]
     },
     "metadata": {},
     "output_type": "display_data"
    }
   ],
   "source": [
    "(ESS / 1) / (RSS / 29)"
   ]
  },
  {
   "cell_type": "markdown",
   "metadata": {},
   "source": [
    "## Multi-variate case"
   ]
  },
  {
   "cell_type": "code",
   "execution_count": 15,
   "metadata": {
    "collapsed": false
   },
   "outputs": [
    {
     "data": {
      "text/plain": [
       "\n",
       "Call:\n",
       "lm(formula = Volume ~ Girth + Height, data = trees)\n",
       "\n",
       "Residuals:\n",
       "    Min      1Q  Median      3Q     Max \n",
       "-6.4065 -2.6493 -0.2876  2.2003  8.4847 \n",
       "\n",
       "Coefficients:\n",
       "            Estimate Std. Error t value Pr(>|t|)    \n",
       "(Intercept) -57.9877     8.6382  -6.713 2.75e-07 ***\n",
       "Girth         4.7082     0.2643  17.816  < 2e-16 ***\n",
       "Height        0.3393     0.1302   2.607   0.0145 *  \n",
       "---\n",
       "Signif. codes:  0 ‘***’ 0.001 ‘**’ 0.01 ‘*’ 0.05 ‘.’ 0.1 ‘ ’ 1\n",
       "\n",
       "Residual standard error: 3.882 on 28 degrees of freedom\n",
       "Multiple R-squared:  0.948,\tAdjusted R-squared:  0.9442 \n",
       "F-statistic:   255 on 2 and 28 DF,  p-value: < 2.2e-16\n"
      ]
     },
     "metadata": {},
     "output_type": "display_data"
    }
   ],
   "source": [
    "model2 <- lm(Volume ~ Girth + Height, data = trees)\n",
    "summary(model2)"
   ]
  },
  {
   "cell_type": "markdown",
   "metadata": {},
   "source": [
    "### Residuals\n",
    "\n",
    "Just like the univariate case."
   ]
  },
  {
   "cell_type": "code",
   "execution_count": 16,
   "metadata": {
    "collapsed": false
   },
   "outputs": [
    {
     "data": {
      "text/html": [
       "<dl class=dl-horizontal>\n",
       "\t<dt>0%</dt>\n",
       "\t\t<dd>-6.4065</dd>\n",
       "\t<dt>25%</dt>\n",
       "\t\t<dd>-2.6493</dd>\n",
       "\t<dt>50%</dt>\n",
       "\t\t<dd>-0.2876</dd>\n",
       "\t<dt>75%</dt>\n",
       "\t\t<dd>2.2003</dd>\n",
       "\t<dt>100%</dt>\n",
       "\t\t<dd>8.4847</dd>\n",
       "</dl>\n"
      ],
      "text/latex": [
       "\\begin{description*}\n",
       "\\item[0\\textbackslash{}\\%] -6.4065\n",
       "\\item[25\\textbackslash{}\\%] -2.6493\n",
       "\\item[50\\textbackslash{}\\%] -0.2876\n",
       "\\item[75\\textbackslash{}\\%] 2.2003\n",
       "\\item[100\\textbackslash{}\\%] 8.4847\n",
       "\\end{description*}\n"
      ],
      "text/markdown": [
       "0%\n",
       ":   -6.406525%\n",
       ":   -2.649350%\n",
       ":   -0.287675%\n",
       ":   2.2003100%\n",
       ":   8.4847\n",
       "\n"
      ],
      "text/plain": [
       "     0%     25%     50%     75%    100% \n",
       "-6.4065 -2.6493 -0.2876  2.2003  8.4847 "
      ]
     },
     "metadata": {},
     "output_type": "display_data"
    }
   ],
   "source": [
    "round(quantile(trees$Volume - fitted(model2)), 4)"
   ]
  },
  {
   "cell_type": "markdown",
   "metadata": {},
   "source": [
    "### Coefficients\n",
    "\n",
    "Coefficients are found by $\\beta = (X^T X)^{-1} X^T y$."
   ]
  },
  {
   "cell_type": "code",
   "execution_count": 17,
   "metadata": {
    "collapsed": false
   },
   "outputs": [
    {
     "data": {
      "text/html": [
       "<table>\n",
       "<tbody>\n",
       "\t<tr><th scope=row>(Intercept)</th><td>-57.9877</td></tr>\n",
       "\t<tr><th scope=row>Girth</th><td>  4.7082</td></tr>\n",
       "\t<tr><th scope=row>Height</th><td>  0.3393</td></tr>\n",
       "</tbody>\n",
       "</table>\n"
      ],
      "text/latex": [
       "\\begin{tabular}{r|l}\n",
       "\t(Intercept) & -57.9877\\\\\n",
       "\tGirth &   4.7082\\\\\n",
       "\tHeight &   0.3393\\\\\n",
       "\\end{tabular}\n"
      ],
      "text/markdown": [
       "\n",
       "| (Intercept) | -57.9877 | \n",
       "| Girth |   4.7082 | \n",
       "| Height |   0.3393 | \n",
       "\n",
       "\n"
      ],
      "text/plain": [
       "            [,1]    \n",
       "(Intercept) -57.9877\n",
       "Girth         4.7082\n",
       "Height        0.3393"
      ]
     },
     "metadata": {},
     "output_type": "display_data"
    }
   ],
   "source": [
    "X <- model.matrix(~ Girth + Height, data = trees)\n",
    "beta <- round(solve(t(X) %*% X) %*% t(X) %*% trees$Volume, 4)\n",
    "beta"
   ]
  },
  {
   "cell_type": "markdown",
   "metadata": {},
   "source": [
    "Standard errors can be found via $\\sqrt{diag(X^T X)^{-1}} \\sigma$ but make sure to take off another degree of freedom."
   ]
  },
  {
   "cell_type": "code",
   "execution_count": 18,
   "metadata": {
    "collapsed": false
   },
   "outputs": [
    {
     "data": {
      "text/html": [
       "<dl class=dl-horizontal>\n",
       "\t<dt>(Intercept)</dt>\n",
       "\t\t<dd>8.6382</dd>\n",
       "\t<dt>Girth</dt>\n",
       "\t\t<dd>0.2643</dd>\n",
       "\t<dt>Height</dt>\n",
       "\t\t<dd>0.1302</dd>\n",
       "</dl>\n"
      ],
      "text/latex": [
       "\\begin{description*}\n",
       "\\item[(Intercept)] 8.6382\n",
       "\\item[Girth] 0.2643\n",
       "\\item[Height] 0.1302\n",
       "\\end{description*}\n"
      ],
      "text/markdown": [
       "(Intercept)\n",
       ":   8.6382Girth\n",
       ":   0.2643Height\n",
       ":   0.1302\n",
       "\n"
      ],
      "text/plain": [
       "(Intercept)       Girth      Height \n",
       "     8.6382      0.2643      0.1302 "
      ]
     },
     "metadata": {},
     "output_type": "display_data"
    }
   ],
   "source": [
    "se <- round(sqrt(diag(solve(t(X) %*% X))) * sqrt(sum(model2$res^2) / (nrow(trees)-ncol(X))), 4)\n",
    "se"
   ]
  },
  {
   "cell_type": "markdown",
   "metadata": {},
   "source": [
    "The `t` values are just the coefficients divided by the standard errors."
   ]
  },
  {
   "cell_type": "code",
   "execution_count": 19,
   "metadata": {
    "collapsed": false
   },
   "outputs": [
    {
     "data": {
      "text/html": [
       "<table>\n",
       "<tbody>\n",
       "\t<tr><th scope=row>(Intercept)</th><td>-6.713</td></tr>\n",
       "\t<tr><th scope=row>Girth</th><td>17.814</td></tr>\n",
       "\t<tr><th scope=row>Height</th><td> 2.606</td></tr>\n",
       "</tbody>\n",
       "</table>\n"
      ],
      "text/latex": [
       "\\begin{tabular}{r|l}\n",
       "\t(Intercept) & -6.713\\\\\n",
       "\tGirth & 17.814\\\\\n",
       "\tHeight &  2.606\\\\\n",
       "\\end{tabular}\n"
      ],
      "text/markdown": [
       "\n",
       "| (Intercept) | -6.713 | \n",
       "| Girth | 17.814 | \n",
       "| Height |  2.606 | \n",
       "\n",
       "\n"
      ],
      "text/plain": [
       "            [,1]  \n",
       "(Intercept) -6.713\n",
       "Girth       17.814\n",
       "Height       2.606"
      ]
     },
     "metadata": {},
     "output_type": "display_data"
    }
   ],
   "source": [
    "round(beta / se, ncol(X))"
   ]
  },
  {
   "cell_type": "markdown",
   "metadata": {},
   "source": [
    "The `p` values are found by looking up the probability distribution. The degrees of freedom is observation count minus number of parameters (where we include the intercept), and multiply by two to make the test two sided."
   ]
  },
  {
   "cell_type": "code",
   "execution_count": 20,
   "metadata": {
    "collapsed": false
   },
   "outputs": [
    {
     "data": {
      "text/html": [
       "<table>\n",
       "<tbody>\n",
       "\t<tr><th scope=row>(Intercept)</th><td>2.749328e-07</td></tr>\n",
       "\t<tr><th scope=row>Girth</th><td>8.249983e-17</td></tr>\n",
       "\t<tr><th scope=row>Height</th><td>1.451141e-02</td></tr>\n",
       "</tbody>\n",
       "</table>\n"
      ],
      "text/latex": [
       "\\begin{tabular}{r|l}\n",
       "\t(Intercept) & 2.749328e-07\\\\\n",
       "\tGirth & 8.249983e-17\\\\\n",
       "\tHeight & 1.451141e-02\\\\\n",
       "\\end{tabular}\n"
      ],
      "text/markdown": [
       "\n",
       "| (Intercept) | 2.749328e-07 | \n",
       "| Girth | 8.249983e-17 | \n",
       "| Height | 1.451141e-02 | \n",
       "\n",
       "\n"
      ],
      "text/plain": [
       "            [,1]        \n",
       "(Intercept) 2.749328e-07\n",
       "Girth       8.249983e-17\n",
       "Height      1.451141e-02"
      ]
     },
     "metadata": {},
     "output_type": "display_data"
    }
   ],
   "source": [
    "pt(-abs(beta / se), nrow(trees) - ncol(X))*2"
   ]
  },
  {
   "cell_type": "markdown",
   "metadata": {},
   "source": [
    "### Residual standard error\n",
    "\n",
    "Residual standard error is the `sd` of the residuals adjusted for degrees of freedom. Degrees of freedom here is number of observations (31) minus number of coeficients (3)."
   ]
  },
  {
   "cell_type": "code",
   "execution_count": 21,
   "metadata": {
    "collapsed": false
   },
   "outputs": [
    {
     "data": {
      "text/html": [
       "3.882"
      ],
      "text/latex": [
       "3.882"
      ],
      "text/markdown": [
       "3.882"
      ],
      "text/plain": [
       "[1] 3.882"
      ]
     },
     "metadata": {},
     "output_type": "display_data"
    }
   ],
   "source": [
    "round(sqrt(sum(model2$res^2) / (nrow(trees)-ncol(X))), 3)"
   ]
  },
  {
   "cell_type": "code",
   "execution_count": 22,
   "metadata": {
    "collapsed": false
   },
   "outputs": [
    {
     "data": {
      "text/html": [
       "<strong>df:</strong> 28"
      ],
      "text/latex": [
       "\\textbf{df:} 28"
      ],
      "text/markdown": [
       "**df:** 28"
      ],
      "text/plain": [
       "df \n",
       "28 "
      ]
     },
     "metadata": {},
     "output_type": "display_data"
    }
   ],
   "source": [
    "c(df = nrow(trees) - ncol(X))"
   ]
  },
  {
   "cell_type": "markdown",
   "metadata": {},
   "source": [
    "Compare to acutal `sd` of residuals."
   ]
  },
  {
   "cell_type": "code",
   "execution_count": 23,
   "metadata": {
    "collapsed": false
   },
   "outputs": [
    {
     "data": {
      "text/html": [
       "3.75020603532858"
      ],
      "text/latex": [
       "3.75020603532858"
      ],
      "text/markdown": [
       "3.75020603532858"
      ],
      "text/plain": [
       "[1] 3.750206"
      ]
     },
     "metadata": {},
     "output_type": "display_data"
    }
   ],
   "source": [
    "sd(residuals(model2))"
   ]
  },
  {
   "cell_type": "markdown",
   "metadata": {},
   "source": [
    "## Session info"
   ]
  },
  {
   "cell_type": "code",
   "execution_count": 24,
   "metadata": {
    "collapsed": false
   },
   "outputs": [
    {
     "data": {
      "text/html": [
       "<time datetime=\"2017-05-25\">2017-05-25</time>"
      ],
      "text/latex": [
       "2017-05-25"
      ],
      "text/markdown": [
       "2017-05-25"
      ],
      "text/plain": [
       "[1] \"2017-05-25\""
      ]
     },
     "metadata": {},
     "output_type": "display_data"
    }
   ],
   "source": [
    "Sys.Date()"
   ]
  },
  {
   "cell_type": "code",
   "execution_count": 25,
   "metadata": {
    "collapsed": false
   },
   "outputs": [
    {
     "data": {
      "text/plain": [
       "R version 3.3.3 (2017-03-06)\n",
       "Platform: x86_64-pc-linux-gnu (64-bit)\n",
       "Running under: Ubuntu 16.04.2 LTS\n",
       "\n",
       "locale:\n",
       " [1] LC_CTYPE=en_US.UTF-8       LC_NUMERIC=C              \n",
       " [3] LC_TIME=en_US.UTF-8        LC_COLLATE=en_US.UTF-8    \n",
       " [5] LC_MONETARY=en_US.UTF-8    LC_MESSAGES=en_US.UTF-8   \n",
       " [7] LC_PAPER=en_US.UTF-8       LC_NAME=C                 \n",
       " [9] LC_ADDRESS=C               LC_TELEPHONE=C            \n",
       "[11] LC_MEASUREMENT=en_US.UTF-8 LC_IDENTIFICATION=C       \n",
       "\n",
       "attached base packages:\n",
       "[1] stats     graphics  grDevices utils     datasets  methods   base     \n",
       "\n",
       "loaded via a namespace (and not attached):\n",
       " [1] R6_2.2.1            magrittr_1.5        IRdisplay_0.4.4    \n",
       " [4] pbdZMQ_0.2-6        tools_3.3.3         crayon_1.3.2       \n",
       " [7] uuid_0.1-2          stringi_1.1.5       IRkernel_0.8.6.9000\n",
       "[10] jsonlite_1.4        stringr_1.2.0       digest_0.6.12      \n",
       "[13] repr_0.12.0         evaluate_0.10      "
      ]
     },
     "metadata": {},
     "output_type": "display_data"
    }
   ],
   "source": [
    "sessionInfo()"
   ]
  }
 ],
 "metadata": {
  "anaconda-cloud": {},
  "kernelspec": {
   "display_name": "R 3.3",
   "language": "R",
   "name": "ir33"
  },
  "language_info": {
   "codemirror_mode": "r",
   "file_extension": ".r",
   "mimetype": "text/x-r-source",
   "name": "R",
   "pygments_lexer": "r",
   "version": "3.3.3"
  },
  "nikola": {
   "category": "",
   "date": "2017-05-24 17:01:21 UTC-05:00",
   "description": "",
   "link": "",
   "slug": "summarylm-in-r",
   "tags": "",
   "title": "summary.lm in R",
   "type": "text"
  }
 },
 "nbformat": 4,
 "nbformat_minor": 1
}
